{
  "nbformat": 4,
  "nbformat_minor": 0,
  "metadata": {
    "colab": {
      "name": "Captcha Recognition Easy version.ipynb",
      "provenance": [],
      "collapsed_sections": [],
      "mount_file_id": "1I5Y_d7hQDyHIix0nzzSB6Yo9cXv7HOhv",
      "authorship_tag": "ABX9TyNTsmY005J5y0GIciNZ4e/R",
      "include_colab_link": true
    },
    "kernelspec": {
      "name": "python3",
      "display_name": "Python 3"
    }
  },
  "cells": [
    {
      "cell_type": "markdown",
      "metadata": {
        "id": "view-in-github",
        "colab_type": "text"
      },
      "source": [
        "<a href=\"https://colab.research.google.com/github/azeem110201/Captcha-Recognition/blob/master/Captcha_Recognition_Easy_version.ipynb\" target=\"_parent\"><img src=\"https://colab.research.google.com/assets/colab-badge.svg\" alt=\"Open In Colab\"/></a>"
      ]
    },
    {
      "cell_type": "code",
      "metadata": {
        "id": "6VZBN_ikFcAM",
        "colab_type": "code",
        "colab": {
          "base_uri": "https://localhost:8080/",
          "height": 33
        },
        "outputId": "bb1323d2-808f-4574-9944-07cbf64bb995"
      },
      "source": [
        "from keras import layers\n",
        "from keras.models import Model\n",
        "from keras.models import load_model\n",
        "from keras import callbacks\n",
        "import os\n",
        "import cv2\n",
        "import string\n",
        "import numpy as np\n",
        "\n",
        "#Init main values\n",
        "symbols = string.ascii_lowercase + \"0123456789\" # All symbols captcha can contain\n",
        "num_symbols = len(symbols)\n",
        "img_shape = (50, 200, 1)"
      ],
      "execution_count": 1,
      "outputs": [
        {
          "output_type": "stream",
          "text": [
            "Using TensorFlow backend.\n"
          ],
          "name": "stderr"
        }
      ]
    },
    {
      "cell_type": "code",
      "metadata": {
        "id": "BFQIlKcpFnmj",
        "colab_type": "code",
        "colab": {
          "base_uri": "https://localhost:8080/",
          "height": 33
        },
        "outputId": "7df0fae3-d595-4ff1-b6e5-8227e1c9bc43"
      },
      "source": [
        "print(num_symbols)"
      ],
      "execution_count": 2,
      "outputs": [
        {
          "output_type": "stream",
          "text": [
            "36\n"
          ],
          "name": "stdout"
        }
      ]
    },
    {
      "cell_type": "code",
      "metadata": {
        "id": "hYdprFBNFsZf",
        "colab_type": "code",
        "colab": {}
      },
      "source": [
        "def create_model():\n",
        "    img = layers.Input(shape=img_shape) # Get image as an input and process it through some Convs\n",
        "    conv1 = layers.Conv2D(16, (3, 3), padding='same', activation='relu')(img)\n",
        "    mp1 = layers.MaxPooling2D(padding='same')(conv1)  # 100x25\n",
        "    conv2 = layers.Conv2D(32, (3, 3), padding='same', activation='relu')(mp1)\n",
        "    mp2 = layers.MaxPooling2D(padding='same')(conv2)  # 50x13\n",
        "    conv3 = layers.Conv2D(32, (3, 3), padding='same', activation='relu')(mp2)\n",
        "    bn = layers.BatchNormalization()(conv3)\n",
        "    mp3 = layers.MaxPooling2D(padding='same')(bn)  # 25x7\n",
        "    \n",
        "    # Get flattened vector and make 5 branches from it. Each branch will predict one letter\n",
        "    flat = layers.Flatten()(mp3)\n",
        "    outs = []\n",
        "    for _ in range(5):\n",
        "        dens1 = layers.Dense(64, activation='relu')(flat)\n",
        "        drop = layers.Dropout(0.5)(dens1)\n",
        "        res = layers.Dense(num_symbols, activation='sigmoid')(drop)\n",
        "\n",
        "        outs.append(res)\n",
        "    \n",
        "    # Compile model and return it\n",
        "    model = Model(img, outs)\n",
        "    model.compile(loss='categorical_crossentropy', optimizer='adam',metrics=[\"accuracy\"])\n",
        "    return model"
      ],
      "execution_count": 3,
      "outputs": []
    },
    {
      "cell_type": "code",
      "metadata": {
        "id": "oJ-m4QmSF4Fl",
        "colab_type": "code",
        "colab": {}
      },
      "source": [
        "def preprocess_data():\n",
        "    n_samples = len(os.listdir('/content/drive/My Drive/captcha recognition/samples/samples'))\n",
        "    X = np.zeros((n_samples, 50, 200, 1)) #1070*50*200\n",
        "    y = np.zeros((5, n_samples, num_symbols)) #5*1070*36\n",
        "\n",
        "    for i, pic in enumerate(os.listdir('/content/drive/My Drive/captcha recognition/samples/samples')):\n",
        "        # Read image as grayscale\n",
        "        img = cv2.imread(os.path.join('/content/drive/My Drive/captcha recognition/samples/samples', pic), cv2.IMREAD_GRAYSCALE)\n",
        "        pic_target = pic[:-4]\n",
        "        if len(pic_target) < 6:\n",
        "            # Scale and reshape image\n",
        "            img = img / 255.0\n",
        "            img = np.reshape(img, (50, 200, 1))\n",
        "            # Define targets and code them using OneHotEncoding\n",
        "            targs = np.zeros((5, num_symbols))\n",
        "            for j, l in enumerate(pic_target):\n",
        "                ind = symbols.find(l)\n",
        "                targs[j, ind] = 1\n",
        "            X[i] = img\n",
        "            y[:, i] = targs\n",
        "    \n",
        "    # Return final data\n",
        "    return X, y\n",
        "\n",
        "X, y = preprocess_data()\n",
        "X_train, y_train = X[:970], y[:, :970]\n",
        "X_test, y_test = X[970:], y[:, 970:]"
      ],
      "execution_count": 4,
      "outputs": []
    },
    {
      "cell_type": "code",
      "metadata": {
        "id": "Wj1n7A1iGFyr",
        "colab_type": "code",
        "colab": {}
      },
      "source": [
        "model=create_model()"
      ],
      "execution_count": 5,
      "outputs": []
    },
    {
      "cell_type": "code",
      "metadata": {
        "id": "aLrcgWslGTnR",
        "colab_type": "code",
        "colab": {
          "base_uri": "https://localhost:8080/",
          "height": 953
        },
        "outputId": "30e5de20-3ab3-49c8-d6ec-5d179dc66822"
      },
      "source": [
        "model.summary()"
      ],
      "execution_count": 6,
      "outputs": [
        {
          "output_type": "stream",
          "text": [
            "Model: \"model_1\"\n",
            "__________________________________________________________________________________________________\n",
            "Layer (type)                    Output Shape         Param #     Connected to                     \n",
            "==================================================================================================\n",
            "input_1 (InputLayer)            (None, 50, 200, 1)   0                                            \n",
            "__________________________________________________________________________________________________\n",
            "conv2d_1 (Conv2D)               (None, 50, 200, 16)  160         input_1[0][0]                    \n",
            "__________________________________________________________________________________________________\n",
            "max_pooling2d_1 (MaxPooling2D)  (None, 25, 100, 16)  0           conv2d_1[0][0]                   \n",
            "__________________________________________________________________________________________________\n",
            "conv2d_2 (Conv2D)               (None, 25, 100, 32)  4640        max_pooling2d_1[0][0]            \n",
            "__________________________________________________________________________________________________\n",
            "max_pooling2d_2 (MaxPooling2D)  (None, 13, 50, 32)   0           conv2d_2[0][0]                   \n",
            "__________________________________________________________________________________________________\n",
            "conv2d_3 (Conv2D)               (None, 13, 50, 32)   9248        max_pooling2d_2[0][0]            \n",
            "__________________________________________________________________________________________________\n",
            "batch_normalization_1 (BatchNor (None, 13, 50, 32)   128         conv2d_3[0][0]                   \n",
            "__________________________________________________________________________________________________\n",
            "max_pooling2d_3 (MaxPooling2D)  (None, 7, 25, 32)    0           batch_normalization_1[0][0]      \n",
            "__________________________________________________________________________________________________\n",
            "flatten_1 (Flatten)             (None, 5600)         0           max_pooling2d_3[0][0]            \n",
            "__________________________________________________________________________________________________\n",
            "dense_1 (Dense)                 (None, 64)           358464      flatten_1[0][0]                  \n",
            "__________________________________________________________________________________________________\n",
            "dense_3 (Dense)                 (None, 64)           358464      flatten_1[0][0]                  \n",
            "__________________________________________________________________________________________________\n",
            "dense_5 (Dense)                 (None, 64)           358464      flatten_1[0][0]                  \n",
            "__________________________________________________________________________________________________\n",
            "dense_7 (Dense)                 (None, 64)           358464      flatten_1[0][0]                  \n",
            "__________________________________________________________________________________________________\n",
            "dense_9 (Dense)                 (None, 64)           358464      flatten_1[0][0]                  \n",
            "__________________________________________________________________________________________________\n",
            "dropout_1 (Dropout)             (None, 64)           0           dense_1[0][0]                    \n",
            "__________________________________________________________________________________________________\n",
            "dropout_2 (Dropout)             (None, 64)           0           dense_3[0][0]                    \n",
            "__________________________________________________________________________________________________\n",
            "dropout_3 (Dropout)             (None, 64)           0           dense_5[0][0]                    \n",
            "__________________________________________________________________________________________________\n",
            "dropout_4 (Dropout)             (None, 64)           0           dense_7[0][0]                    \n",
            "__________________________________________________________________________________________________\n",
            "dropout_5 (Dropout)             (None, 64)           0           dense_9[0][0]                    \n",
            "__________________________________________________________________________________________________\n",
            "dense_2 (Dense)                 (None, 36)           2340        dropout_1[0][0]                  \n",
            "__________________________________________________________________________________________________\n",
            "dense_4 (Dense)                 (None, 36)           2340        dropout_2[0][0]                  \n",
            "__________________________________________________________________________________________________\n",
            "dense_6 (Dense)                 (None, 36)           2340        dropout_3[0][0]                  \n",
            "__________________________________________________________________________________________________\n",
            "dense_8 (Dense)                 (None, 36)           2340        dropout_4[0][0]                  \n",
            "__________________________________________________________________________________________________\n",
            "dense_10 (Dense)                (None, 36)           2340        dropout_5[0][0]                  \n",
            "==================================================================================================\n",
            "Total params: 1,818,196\n",
            "Trainable params: 1,818,132\n",
            "Non-trainable params: 64\n",
            "__________________________________________________________________________________________________\n"
          ],
          "name": "stdout"
        }
      ]
    },
    {
      "cell_type": "code",
      "metadata": {
        "id": "W6njIpf4GUkG",
        "colab_type": "code",
        "colab": {
          "base_uri": "https://localhost:8080/",
          "height": 1000
        },
        "outputId": "15da12fa-9be9-4180-a8df-bad807acdd2e"
      },
      "source": [
        "history = model.fit(X_train, [y_train[0], y_train[1], y_train[2], y_train[3], y_train[4]], batch_size=32, epochs=70,verbose=1, validation_split=0.2)"
      ],
      "execution_count": 7,
      "outputs": [
        {
          "output_type": "stream",
          "text": [
            "Train on 776 samples, validate on 194 samples\n",
            "Epoch 1/70\n",
            "776/776 [==============================] - 9s 11ms/step - loss: 17.4271 - dense_2_loss: 3.3948 - dense_4_loss: 3.5260 - dense_6_loss: 3.5224 - dense_8_loss: 3.5002 - dense_10_loss: 3.4933 - dense_2_accuracy: 0.0515 - dense_4_accuracy: 0.0412 - dense_6_accuracy: 0.0683 - dense_8_accuracy: 0.0515 - dense_10_accuracy: 0.0619 - val_loss: 17.6422 - val_dense_2_loss: 3.5389 - val_dense_4_loss: 3.5192 - val_dense_6_loss: 3.5233 - val_dense_8_loss: 3.5288 - val_dense_10_loss: 3.5263 - val_dense_2_accuracy: 0.0000e+00 - val_dense_4_accuracy: 0.0515 - val_dense_6_accuracy: 0.0309 - val_dense_8_accuracy: 0.0412 - val_dense_10_accuracy: 0.0876\n",
            "Epoch 2/70\n",
            "776/776 [==============================] - 7s 9ms/step - loss: 16.4027 - dense_2_loss: 3.1425 - dense_4_loss: 3.2871 - dense_6_loss: 3.2731 - dense_8_loss: 3.3616 - dense_10_loss: 3.3242 - dense_2_accuracy: 0.0722 - dense_4_accuracy: 0.0670 - dense_6_accuracy: 0.0760 - dense_8_accuracy: 0.0477 - dense_10_accuracy: 0.0631 - val_loss: 17.3807 - val_dense_2_loss: 3.4868 - val_dense_4_loss: 3.4608 - val_dense_6_loss: 3.4733 - val_dense_8_loss: 3.4881 - val_dense_10_loss: 3.4648 - val_dense_2_accuracy: 0.0000e+00 - val_dense_4_accuracy: 0.0361 - val_dense_6_accuracy: 0.0309 - val_dense_8_accuracy: 0.0412 - val_dense_10_accuracy: 0.0258\n",
            "Epoch 3/70\n",
            "776/776 [==============================] - 7s 9ms/step - loss: 15.5965 - dense_2_loss: 3.0207 - dense_4_loss: 3.0988 - dense_6_loss: 3.1054 - dense_8_loss: 3.2229 - dense_10_loss: 3.1295 - dense_2_accuracy: 0.0722 - dense_4_accuracy: 0.0670 - dense_6_accuracy: 0.0683 - dense_8_accuracy: 0.0709 - dense_10_accuracy: 0.0799 - val_loss: 17.2321 - val_dense_2_loss: 3.4707 - val_dense_4_loss: 3.4250 - val_dense_6_loss: 3.4355 - val_dense_8_loss: 3.4567 - val_dense_10_loss: 3.4399 - val_dense_2_accuracy: 0.0103 - val_dense_4_accuracy: 0.0412 - val_dense_6_accuracy: 0.0670 - val_dense_8_accuracy: 0.1031 - val_dense_10_accuracy: 0.0979\n",
            "Epoch 4/70\n",
            "776/776 [==============================] - 7s 9ms/step - loss: 14.8262 - dense_2_loss: 2.8507 - dense_4_loss: 2.9315 - dense_6_loss: 2.9627 - dense_8_loss: 3.0785 - dense_10_loss: 3.0110 - dense_2_accuracy: 0.1160 - dense_4_accuracy: 0.0915 - dense_6_accuracy: 0.0838 - dense_8_accuracy: 0.0670 - dense_10_accuracy: 0.1057 - val_loss: 17.2233 - val_dense_2_loss: 3.4562 - val_dense_4_loss: 3.4172 - val_dense_6_loss: 3.4458 - val_dense_8_loss: 3.4557 - val_dense_10_loss: 3.4365 - val_dense_2_accuracy: 0.0000e+00 - val_dense_4_accuracy: 0.1856 - val_dense_6_accuracy: 0.0928 - val_dense_8_accuracy: 0.1495 - val_dense_10_accuracy: 0.1237\n",
            "Epoch 5/70\n",
            "776/776 [==============================] - 7s 9ms/step - loss: 14.2232 - dense_2_loss: 2.7121 - dense_4_loss: 2.8167 - dense_6_loss: 2.7886 - dense_8_loss: 2.9930 - dense_10_loss: 2.9095 - dense_2_accuracy: 0.1572 - dense_4_accuracy: 0.1211 - dense_6_accuracy: 0.0954 - dense_8_accuracy: 0.0863 - dense_10_accuracy: 0.1250 - val_loss: 16.6300 - val_dense_2_loss: 3.3600 - val_dense_4_loss: 3.2738 - val_dense_6_loss: 3.3175 - val_dense_8_loss: 3.3428 - val_dense_10_loss: 3.3222 - val_dense_2_accuracy: 0.0309 - val_dense_4_accuracy: 0.2010 - val_dense_6_accuracy: 0.1082 - val_dense_8_accuracy: 0.1546 - val_dense_10_accuracy: 0.0876\n",
            "Epoch 6/70\n",
            "776/776 [==============================] - 7s 9ms/step - loss: 13.7281 - dense_2_loss: 2.5613 - dense_4_loss: 2.7264 - dense_6_loss: 2.7388 - dense_8_loss: 2.8724 - dense_10_loss: 2.8062 - dense_2_accuracy: 0.1985 - dense_4_accuracy: 0.1869 - dense_6_accuracy: 0.1456 - dense_8_accuracy: 0.1211 - dense_10_accuracy: 0.1198 - val_loss: 16.5510 - val_dense_2_loss: 3.3538 - val_dense_4_loss: 3.2584 - val_dense_6_loss: 3.2646 - val_dense_8_loss: 3.3412 - val_dense_10_loss: 3.3007 - val_dense_2_accuracy: 0.0412 - val_dense_4_accuracy: 0.4433 - val_dense_6_accuracy: 0.1598 - val_dense_8_accuracy: 0.1598 - val_dense_10_accuracy: 0.1082\n",
            "Epoch 7/70\n",
            "776/776 [==============================] - 7s 9ms/step - loss: 12.9970 - dense_2_loss: 2.3749 - dense_4_loss: 2.5847 - dense_6_loss: 2.5735 - dense_8_loss: 2.7993 - dense_10_loss: 2.6704 - dense_2_accuracy: 0.1985 - dense_4_accuracy: 0.2242 - dense_6_accuracy: 0.1546 - dense_8_accuracy: 0.1327 - dense_10_accuracy: 0.1740 - val_loss: 15.5460 - val_dense_2_loss: 3.1023 - val_dense_4_loss: 3.0161 - val_dense_6_loss: 3.0804 - val_dense_8_loss: 3.1820 - val_dense_10_loss: 3.1324 - val_dense_2_accuracy: 0.0258 - val_dense_4_accuracy: 0.3041 - val_dense_6_accuracy: 0.1701 - val_dense_8_accuracy: 0.1701 - val_dense_10_accuracy: 0.1443\n",
            "Epoch 8/70\n",
            "776/776 [==============================] - 7s 9ms/step - loss: 12.3225 - dense_2_loss: 2.2095 - dense_4_loss: 2.3684 - dense_6_loss: 2.4521 - dense_8_loss: 2.7195 - dense_10_loss: 2.5469 - dense_2_accuracy: 0.2268 - dense_4_accuracy: 0.2668 - dense_6_accuracy: 0.1894 - dense_8_accuracy: 0.1443 - dense_10_accuracy: 0.1907 - val_loss: 15.7681 - val_dense_2_loss: 3.1550 - val_dense_4_loss: 3.0912 - val_dense_6_loss: 3.0920 - val_dense_8_loss: 3.2134 - val_dense_10_loss: 3.1678 - val_dense_2_accuracy: 0.1649 - val_dense_4_accuracy: 0.4072 - val_dense_6_accuracy: 0.2629 - val_dense_8_accuracy: 0.2165 - val_dense_10_accuracy: 0.2010\n",
            "Epoch 9/70\n",
            "776/776 [==============================] - 7s 9ms/step - loss: 11.5094 - dense_2_loss: 1.9585 - dense_4_loss: 2.2118 - dense_6_loss: 2.3062 - dense_8_loss: 2.6209 - dense_10_loss: 2.4023 - dense_2_accuracy: 0.2410 - dense_4_accuracy: 0.3247 - dense_6_accuracy: 0.2474 - dense_8_accuracy: 0.1778 - dense_10_accuracy: 0.2307 - val_loss: 13.6826 - val_dense_2_loss: 2.6905 - val_dense_4_loss: 2.5534 - val_dense_6_loss: 2.7344 - val_dense_8_loss: 2.8992 - val_dense_10_loss: 2.7608 - val_dense_2_accuracy: 0.0000e+00 - val_dense_4_accuracy: 0.4227 - val_dense_6_accuracy: 0.2320 - val_dense_8_accuracy: 0.2629 - val_dense_10_accuracy: 0.2423\n",
            "Epoch 10/70\n",
            "776/776 [==============================] - 7s 9ms/step - loss: 10.5162 - dense_2_loss: 1.7129 - dense_4_loss: 1.9796 - dense_6_loss: 2.1308 - dense_8_loss: 2.4812 - dense_10_loss: 2.1897 - dense_2_accuracy: 0.2487 - dense_4_accuracy: 0.4240 - dense_6_accuracy: 0.3028 - dense_8_accuracy: 0.2049 - dense_10_accuracy: 0.2706 - val_loss: 13.7073 - val_dense_2_loss: 2.6816 - val_dense_4_loss: 2.5847 - val_dense_6_loss: 2.7067 - val_dense_8_loss: 2.9303 - val_dense_10_loss: 2.7384 - val_dense_2_accuracy: 0.1186 - val_dense_4_accuracy: 0.7010 - val_dense_6_accuracy: 0.3918 - val_dense_8_accuracy: 0.3402 - val_dense_10_accuracy: 0.2629\n",
            "Epoch 11/70\n",
            "776/776 [==============================] - 7s 9ms/step - loss: 9.4747 - dense_2_loss: 1.4608 - dense_4_loss: 1.6615 - dense_6_loss: 1.9596 - dense_8_loss: 2.3046 - dense_10_loss: 2.0769 - dense_2_accuracy: 0.4175 - dense_4_accuracy: 0.4910 - dense_6_accuracy: 0.3698 - dense_8_accuracy: 0.2500 - dense_10_accuracy: 0.2925 - val_loss: 11.8437 - val_dense_2_loss: 2.3000 - val_dense_4_loss: 2.1159 - val_dense_6_loss: 2.2832 - val_dense_8_loss: 2.6074 - val_dense_10_loss: 2.4626 - val_dense_2_accuracy: 0.6804 - val_dense_4_accuracy: 0.7216 - val_dense_6_accuracy: 0.4639 - val_dense_8_accuracy: 0.3660 - val_dense_10_accuracy: 0.3608\n",
            "Epoch 12/70\n",
            "776/776 [==============================] - 7s 9ms/step - loss: 8.3604 - dense_2_loss: 1.2459 - dense_4_loss: 1.4392 - dense_6_loss: 1.7039 - dense_8_loss: 2.0762 - dense_10_loss: 1.8798 - dense_2_accuracy: 0.5851 - dense_4_accuracy: 0.5219 - dense_6_accuracy: 0.4214 - dense_8_accuracy: 0.3015 - dense_10_accuracy: 0.3557 - val_loss: 10.1917 - val_dense_2_loss: 1.8413 - val_dense_4_loss: 1.6831 - val_dense_6_loss: 1.9423 - val_dense_8_loss: 2.4008 - val_dense_10_loss: 2.2469 - val_dense_2_accuracy: 0.7320 - val_dense_4_accuracy: 0.8144 - val_dense_6_accuracy: 0.4897 - val_dense_8_accuracy: 0.4588 - val_dense_10_accuracy: 0.4021\n",
            "Epoch 13/70\n",
            "776/776 [==============================] - 7s 9ms/step - loss: 7.3472 - dense_2_loss: 1.0369 - dense_4_loss: 1.1983 - dense_6_loss: 1.5178 - dense_8_loss: 1.8564 - dense_10_loss: 1.7225 - dense_2_accuracy: 0.6701 - dense_4_accuracy: 0.6173 - dense_6_accuracy: 0.5206 - dense_8_accuracy: 0.3827 - dense_10_accuracy: 0.3969 - val_loss: 9.5620 - val_dense_2_loss: 1.7467 - val_dense_4_loss: 1.5144 - val_dense_6_loss: 1.8290 - val_dense_8_loss: 2.2090 - val_dense_10_loss: 2.1442 - val_dense_2_accuracy: 0.8247 - val_dense_4_accuracy: 0.8711 - val_dense_6_accuracy: 0.6443 - val_dense_8_accuracy: 0.4639 - val_dense_10_accuracy: 0.4794\n",
            "Epoch 14/70\n",
            "776/776 [==============================] - 7s 9ms/step - loss: 6.3426 - dense_2_loss: 0.7824 - dense_4_loss: 1.0429 - dense_6_loss: 1.3105 - dense_8_loss: 1.6782 - dense_10_loss: 1.5079 - dense_2_accuracy: 0.7397 - dense_4_accuracy: 0.6611 - dense_6_accuracy: 0.5825 - dense_8_accuracy: 0.4433 - dense_10_accuracy: 0.4923 - val_loss: 7.9435 - val_dense_2_loss: 1.3024 - val_dense_4_loss: 1.1532 - val_dense_6_loss: 1.5944 - val_dense_8_loss: 1.9431 - val_dense_10_loss: 1.8115 - val_dense_2_accuracy: 0.8454 - val_dense_4_accuracy: 0.8505 - val_dense_6_accuracy: 0.7680 - val_dense_8_accuracy: 0.5825 - val_dense_10_accuracy: 0.6031\n",
            "Epoch 15/70\n",
            "776/776 [==============================] - 7s 9ms/step - loss: 5.6072 - dense_2_loss: 0.6355 - dense_4_loss: 0.9469 - dense_6_loss: 1.1732 - dense_8_loss: 1.4674 - dense_10_loss: 1.3723 - dense_2_accuracy: 0.7861 - dense_4_accuracy: 0.6869 - dense_6_accuracy: 0.6276 - dense_8_accuracy: 0.5374 - dense_10_accuracy: 0.5129 - val_loss: 6.4175 - val_dense_2_loss: 1.0108 - val_dense_4_loss: 0.8695 - val_dense_6_loss: 1.2047 - val_dense_8_loss: 1.6597 - val_dense_10_loss: 1.5361 - val_dense_2_accuracy: 0.8866 - val_dense_4_accuracy: 0.9330 - val_dense_6_accuracy: 0.7784 - val_dense_8_accuracy: 0.7165 - val_dense_10_accuracy: 0.5773\n",
            "Epoch 16/70\n",
            "776/776 [==============================] - 7s 9ms/step - loss: 4.7803 - dense_2_loss: 0.5216 - dense_4_loss: 0.7896 - dense_6_loss: 0.9713 - dense_8_loss: 1.2368 - dense_10_loss: 1.2568 - dense_2_accuracy: 0.8351 - dense_4_accuracy: 0.7307 - dense_6_accuracy: 0.6804 - dense_8_accuracy: 0.6160 - dense_10_accuracy: 0.5966 - val_loss: 5.6844 - val_dense_2_loss: 0.8037 - val_dense_4_loss: 0.7257 - val_dense_6_loss: 1.1110 - val_dense_8_loss: 1.4919 - val_dense_10_loss: 1.4724 - val_dense_2_accuracy: 0.8866 - val_dense_4_accuracy: 0.9072 - val_dense_6_accuracy: 0.8196 - val_dense_8_accuracy: 0.7010 - val_dense_10_accuracy: 0.6082\n",
            "Epoch 17/70\n",
            "776/776 [==============================] - 7s 10ms/step - loss: 4.1897 - dense_2_loss: 0.5016 - dense_4_loss: 0.6809 - dense_6_loss: 0.8831 - dense_8_loss: 1.0589 - dense_10_loss: 1.0812 - dense_2_accuracy: 0.8196 - dense_4_accuracy: 0.7706 - dense_6_accuracy: 0.7448 - dense_8_accuracy: 0.6521 - dense_10_accuracy: 0.6302 - val_loss: 4.0571 - val_dense_2_loss: 0.6109 - val_dense_4_loss: 0.3345 - val_dense_6_loss: 0.7429 - val_dense_8_loss: 1.0991 - val_dense_10_loss: 1.1254 - val_dense_2_accuracy: 0.9072 - val_dense_4_accuracy: 0.9536 - val_dense_6_accuracy: 0.8351 - val_dense_8_accuracy: 0.7474 - val_dense_10_accuracy: 0.6856\n",
            "Epoch 18/70\n",
            "776/776 [==============================] - 7s 9ms/step - loss: 3.8169 - dense_2_loss: 0.4426 - dense_4_loss: 0.6246 - dense_6_loss: 0.8235 - dense_8_loss: 1.0021 - dense_10_loss: 0.9314 - dense_2_accuracy: 0.8544 - dense_4_accuracy: 0.7925 - dense_6_accuracy: 0.7101 - dense_8_accuracy: 0.6508 - dense_10_accuracy: 0.6907 - val_loss: 3.5946 - val_dense_2_loss: 0.4878 - val_dense_4_loss: 0.3071 - val_dense_6_loss: 0.6518 - val_dense_8_loss: 1.0226 - val_dense_10_loss: 0.9701 - val_dense_2_accuracy: 0.9278 - val_dense_4_accuracy: 0.9536 - val_dense_6_accuracy: 0.8608 - val_dense_8_accuracy: 0.7371 - val_dense_10_accuracy: 0.7113\n",
            "Epoch 19/70\n",
            "776/776 [==============================] - 7s 9ms/step - loss: 3.3012 - dense_2_loss: 0.3524 - dense_4_loss: 0.4976 - dense_6_loss: 0.6922 - dense_8_loss: 0.8984 - dense_10_loss: 0.8292 - dense_2_accuracy: 0.8763 - dense_4_accuracy: 0.8235 - dense_6_accuracy: 0.7758 - dense_8_accuracy: 0.7036 - dense_10_accuracy: 0.7255 - val_loss: 3.1836 - val_dense_2_loss: 0.3921 - val_dense_4_loss: 0.2792 - val_dense_6_loss: 0.5147 - val_dense_8_loss: 0.7912 - val_dense_10_loss: 0.9582 - val_dense_2_accuracy: 0.9381 - val_dense_4_accuracy: 0.9536 - val_dense_6_accuracy: 0.8814 - val_dense_8_accuracy: 0.7423 - val_dense_10_accuracy: 0.6289\n",
            "Epoch 20/70\n",
            "776/776 [==============================] - 7s 9ms/step - loss: 2.9358 - dense_2_loss: 0.3294 - dense_4_loss: 0.4866 - dense_6_loss: 0.5942 - dense_8_loss: 0.7610 - dense_10_loss: 0.7497 - dense_2_accuracy: 0.8892 - dense_4_accuracy: 0.8196 - dense_6_accuracy: 0.8080 - dense_8_accuracy: 0.7345 - dense_10_accuracy: 0.7500 - val_loss: 2.4731 - val_dense_2_loss: 0.2240 - val_dense_4_loss: 0.1564 - val_dense_6_loss: 0.4347 - val_dense_8_loss: 0.7339 - val_dense_10_loss: 0.6933 - val_dense_2_accuracy: 0.9485 - val_dense_4_accuracy: 0.9588 - val_dense_6_accuracy: 0.8557 - val_dense_8_accuracy: 0.8247 - val_dense_10_accuracy: 0.7629\n",
            "Epoch 21/70\n",
            "776/776 [==============================] - 7s 9ms/step - loss: 2.5537 - dense_2_loss: 0.2566 - dense_4_loss: 0.4299 - dense_6_loss: 0.5344 - dense_8_loss: 0.7055 - dense_10_loss: 0.6229 - dense_2_accuracy: 0.9111 - dense_4_accuracy: 0.8531 - dense_6_accuracy: 0.8119 - dense_8_accuracy: 0.7629 - dense_10_accuracy: 0.7835 - val_loss: 2.2909 - val_dense_2_loss: 0.1711 - val_dense_4_loss: 0.1045 - val_dense_6_loss: 0.3872 - val_dense_8_loss: 0.6594 - val_dense_10_loss: 0.7288 - val_dense_2_accuracy: 0.9588 - val_dense_4_accuracy: 0.9742 - val_dense_6_accuracy: 0.8660 - val_dense_8_accuracy: 0.7887 - val_dense_10_accuracy: 0.7216\n",
            "Epoch 22/70\n",
            "776/776 [==============================] - 7s 9ms/step - loss: 2.3957 - dense_2_loss: 0.2577 - dense_4_loss: 0.4290 - dense_6_loss: 0.5138 - dense_8_loss: 0.5671 - dense_10_loss: 0.6320 - dense_2_accuracy: 0.9188 - dense_4_accuracy: 0.8363 - dense_6_accuracy: 0.8273 - dense_8_accuracy: 0.7925 - dense_10_accuracy: 0.7835 - val_loss: 2.0184 - val_dense_2_loss: 0.1319 - val_dense_4_loss: 0.0942 - val_dense_6_loss: 0.4019 - val_dense_8_loss: 0.6105 - val_dense_10_loss: 0.5351 - val_dense_2_accuracy: 0.9639 - val_dense_4_accuracy: 0.9691 - val_dense_6_accuracy: 0.8763 - val_dense_8_accuracy: 0.7887 - val_dense_10_accuracy: 0.8196\n",
            "Epoch 23/70\n",
            "776/776 [==============================] - 7s 10ms/step - loss: 2.1726 - dense_2_loss: 0.2421 - dense_4_loss: 0.3934 - dense_6_loss: 0.4746 - dense_8_loss: 0.4995 - dense_10_loss: 0.5567 - dense_2_accuracy: 0.9124 - dense_4_accuracy: 0.8647 - dense_6_accuracy: 0.8376 - dense_8_accuracy: 0.8247 - dense_10_accuracy: 0.8093 - val_loss: 1.9727 - val_dense_2_loss: 0.1243 - val_dense_4_loss: 0.0973 - val_dense_6_loss: 0.3971 - val_dense_8_loss: 0.5644 - val_dense_10_loss: 0.5762 - val_dense_2_accuracy: 0.9691 - val_dense_4_accuracy: 0.9588 - val_dense_6_accuracy: 0.8557 - val_dense_8_accuracy: 0.8505 - val_dense_10_accuracy: 0.8196\n",
            "Epoch 24/70\n",
            "776/776 [==============================] - 7s 9ms/step - loss: 1.9493 - dense_2_loss: 0.2282 - dense_4_loss: 0.3289 - dense_6_loss: 0.3889 - dense_8_loss: 0.4986 - dense_10_loss: 0.5169 - dense_2_accuracy: 0.9214 - dense_4_accuracy: 0.8905 - dense_6_accuracy: 0.8750 - dense_8_accuracy: 0.8131 - dense_10_accuracy: 0.8157 - val_loss: 1.9777 - val_dense_2_loss: 0.1165 - val_dense_4_loss: 0.0753 - val_dense_6_loss: 0.3686 - val_dense_8_loss: 0.6138 - val_dense_10_loss: 0.5601 - val_dense_2_accuracy: 0.9639 - val_dense_4_accuracy: 0.9691 - val_dense_6_accuracy: 0.8814 - val_dense_8_accuracy: 0.8351 - val_dense_10_accuracy: 0.8093\n",
            "Epoch 25/70\n",
            "776/776 [==============================] - 7s 9ms/step - loss: 1.9391 - dense_2_loss: 0.1928 - dense_4_loss: 0.3713 - dense_6_loss: 0.3543 - dense_8_loss: 0.4548 - dense_10_loss: 0.5825 - dense_2_accuracy: 0.9317 - dense_4_accuracy: 0.8582 - dense_6_accuracy: 0.8789 - dense_8_accuracy: 0.8415 - dense_10_accuracy: 0.8106 - val_loss: 1.8176 - val_dense_2_loss: 0.1192 - val_dense_4_loss: 0.0665 - val_dense_6_loss: 0.3480 - val_dense_8_loss: 0.5857 - val_dense_10_loss: 0.5092 - val_dense_2_accuracy: 0.9588 - val_dense_4_accuracy: 0.9588 - val_dense_6_accuracy: 0.8969 - val_dense_8_accuracy: 0.8196 - val_dense_10_accuracy: 0.8144\n",
            "Epoch 26/70\n",
            "776/776 [==============================] - 7s 9ms/step - loss: 1.7147 - dense_2_loss: 0.2122 - dense_4_loss: 0.3062 - dense_6_loss: 0.3411 - dense_8_loss: 0.3802 - dense_10_loss: 0.4799 - dense_2_accuracy: 0.9291 - dense_4_accuracy: 0.8930 - dense_6_accuracy: 0.8956 - dense_8_accuracy: 0.8531 - dense_10_accuracy: 0.8479 - val_loss: 2.3865 - val_dense_2_loss: 0.1281 - val_dense_4_loss: 0.0550 - val_dense_6_loss: 0.3252 - val_dense_8_loss: 0.7792 - val_dense_10_loss: 0.8037 - val_dense_2_accuracy: 0.9536 - val_dense_4_accuracy: 0.9845 - val_dense_6_accuracy: 0.8969 - val_dense_8_accuracy: 0.7629 - val_dense_10_accuracy: 0.7680\n",
            "Epoch 27/70\n",
            "776/776 [==============================] - 7s 9ms/step - loss: 1.5889 - dense_2_loss: 0.2019 - dense_4_loss: 0.2735 - dense_6_loss: 0.3274 - dense_8_loss: 0.4162 - dense_10_loss: 0.3721 - dense_2_accuracy: 0.9343 - dense_4_accuracy: 0.8918 - dense_6_accuracy: 0.8853 - dense_8_accuracy: 0.8544 - dense_10_accuracy: 0.8853 - val_loss: 1.7515 - val_dense_2_loss: 0.0967 - val_dense_4_loss: 0.0463 - val_dense_6_loss: 0.3402 - val_dense_8_loss: 0.5636 - val_dense_10_loss: 0.4870 - val_dense_2_accuracy: 0.9691 - val_dense_4_accuracy: 0.9845 - val_dense_6_accuracy: 0.8711 - val_dense_8_accuracy: 0.8402 - val_dense_10_accuracy: 0.8351\n",
            "Epoch 28/70\n",
            "776/776 [==============================] - 7s 9ms/step - loss: 1.6153 - dense_2_loss: 0.1966 - dense_4_loss: 0.3038 - dense_6_loss: 0.3228 - dense_8_loss: 0.3598 - dense_10_loss: 0.4189 - dense_2_accuracy: 0.9304 - dense_4_accuracy: 0.8956 - dense_6_accuracy: 0.8905 - dense_8_accuracy: 0.8724 - dense_10_accuracy: 0.8466 - val_loss: 1.9118 - val_dense_2_loss: 0.1042 - val_dense_4_loss: 0.0882 - val_dense_6_loss: 0.3446 - val_dense_8_loss: 0.5796 - val_dense_10_loss: 0.5500 - val_dense_2_accuracy: 0.9742 - val_dense_4_accuracy: 0.9639 - val_dense_6_accuracy: 0.8866 - val_dense_8_accuracy: 0.8505 - val_dense_10_accuracy: 0.8299\n",
            "Epoch 29/70\n",
            "776/776 [==============================] - 7s 9ms/step - loss: 1.3862 - dense_2_loss: 0.1587 - dense_4_loss: 0.2473 - dense_6_loss: 0.2734 - dense_8_loss: 0.3303 - dense_10_loss: 0.3768 - dense_2_accuracy: 0.9394 - dense_4_accuracy: 0.9149 - dense_6_accuracy: 0.9008 - dense_8_accuracy: 0.8918 - dense_10_accuracy: 0.8776 - val_loss: 1.9008 - val_dense_2_loss: 0.1374 - val_dense_4_loss: 0.0456 - val_dense_6_loss: 0.3141 - val_dense_8_loss: 0.5614 - val_dense_10_loss: 0.5947 - val_dense_2_accuracy: 0.9639 - val_dense_4_accuracy: 0.9742 - val_dense_6_accuracy: 0.9021 - val_dense_8_accuracy: 0.8402 - val_dense_10_accuracy: 0.8247\n",
            "Epoch 30/70\n",
            "776/776 [==============================] - 7s 9ms/step - loss: 1.2613 - dense_2_loss: 0.1651 - dense_4_loss: 0.2229 - dense_6_loss: 0.2453 - dense_8_loss: 0.2972 - dense_10_loss: 0.3264 - dense_2_accuracy: 0.9381 - dense_4_accuracy: 0.9278 - dense_6_accuracy: 0.9111 - dense_8_accuracy: 0.8956 - dense_10_accuracy: 0.8905 - val_loss: 1.7885 - val_dense_2_loss: 0.0982 - val_dense_4_loss: 0.0489 - val_dense_6_loss: 0.3216 - val_dense_8_loss: 0.5642 - val_dense_10_loss: 0.5255 - val_dense_2_accuracy: 0.9742 - val_dense_4_accuracy: 0.9742 - val_dense_6_accuracy: 0.8918 - val_dense_8_accuracy: 0.8247 - val_dense_10_accuracy: 0.8402\n",
            "Epoch 31/70\n",
            "776/776 [==============================] - 7s 9ms/step - loss: 1.3131 - dense_2_loss: 0.1520 - dense_4_loss: 0.2408 - dense_6_loss: 0.2857 - dense_8_loss: 0.2978 - dense_10_loss: 0.3325 - dense_2_accuracy: 0.9433 - dense_4_accuracy: 0.9046 - dense_6_accuracy: 0.9021 - dense_8_accuracy: 0.8905 - dense_10_accuracy: 0.8763 - val_loss: 2.0523 - val_dense_2_loss: 0.1153 - val_dense_4_loss: 0.0637 - val_dense_6_loss: 0.3449 - val_dense_8_loss: 0.6974 - val_dense_10_loss: 0.5584 - val_dense_2_accuracy: 0.9742 - val_dense_4_accuracy: 0.9691 - val_dense_6_accuracy: 0.8969 - val_dense_8_accuracy: 0.8351 - val_dense_10_accuracy: 0.8402\n",
            "Epoch 32/70\n",
            "776/776 [==============================] - 7s 9ms/step - loss: 1.2711 - dense_2_loss: 0.1661 - dense_4_loss: 0.2666 - dense_6_loss: 0.2490 - dense_8_loss: 0.2762 - dense_10_loss: 0.3148 - dense_2_accuracy: 0.9446 - dense_4_accuracy: 0.8982 - dense_6_accuracy: 0.9124 - dense_8_accuracy: 0.9072 - dense_10_accuracy: 0.8866 - val_loss: 1.7411 - val_dense_2_loss: 0.1024 - val_dense_4_loss: 0.0318 - val_dense_6_loss: 0.2966 - val_dense_8_loss: 0.6114 - val_dense_10_loss: 0.4713 - val_dense_2_accuracy: 0.9742 - val_dense_4_accuracy: 0.9897 - val_dense_6_accuracy: 0.9021 - val_dense_8_accuracy: 0.8608 - val_dense_10_accuracy: 0.8608\n",
            "Epoch 33/70\n",
            "776/776 [==============================] - 7s 9ms/step - loss: 1.1856 - dense_2_loss: 0.1527 - dense_4_loss: 0.2494 - dense_6_loss: 0.2468 - dense_8_loss: 0.2506 - dense_10_loss: 0.2802 - dense_2_accuracy: 0.9536 - dense_4_accuracy: 0.9021 - dense_6_accuracy: 0.9317 - dense_8_accuracy: 0.9098 - dense_10_accuracy: 0.8969 - val_loss: 1.9045 - val_dense_2_loss: 0.1035 - val_dense_4_loss: 0.0210 - val_dense_6_loss: 0.3180 - val_dense_8_loss: 0.6194 - val_dense_10_loss: 0.5924 - val_dense_2_accuracy: 0.9742 - val_dense_4_accuracy: 0.9897 - val_dense_6_accuracy: 0.8969 - val_dense_8_accuracy: 0.8247 - val_dense_10_accuracy: 0.8247\n",
            "Epoch 34/70\n",
            "776/776 [==============================] - 7s 9ms/step - loss: 1.1480 - dense_2_loss: 0.1238 - dense_4_loss: 0.2748 - dense_6_loss: 0.2318 - dense_8_loss: 0.2418 - dense_10_loss: 0.2806 - dense_2_accuracy: 0.9549 - dense_4_accuracy: 0.9046 - dense_6_accuracy: 0.9162 - dense_8_accuracy: 0.9137 - dense_10_accuracy: 0.9046 - val_loss: 1.8191 - val_dense_2_loss: 0.1165 - val_dense_4_loss: 0.0368 - val_dense_6_loss: 0.3496 - val_dense_8_loss: 0.6129 - val_dense_10_loss: 0.4835 - val_dense_2_accuracy: 0.9742 - val_dense_4_accuracy: 0.9845 - val_dense_6_accuracy: 0.9072 - val_dense_8_accuracy: 0.8247 - val_dense_10_accuracy: 0.8660\n",
            "Epoch 35/70\n",
            "776/776 [==============================] - 7s 9ms/step - loss: 1.0315 - dense_2_loss: 0.1273 - dense_4_loss: 0.2115 - dense_6_loss: 0.2186 - dense_8_loss: 0.2154 - dense_10_loss: 0.2628 - dense_2_accuracy: 0.9562 - dense_4_accuracy: 0.9278 - dense_6_accuracy: 0.9278 - dense_8_accuracy: 0.9188 - dense_10_accuracy: 0.8956 - val_loss: 1.6857 - val_dense_2_loss: 0.0864 - val_dense_4_loss: 0.0316 - val_dense_6_loss: 0.2725 - val_dense_8_loss: 0.6331 - val_dense_10_loss: 0.4519 - val_dense_2_accuracy: 0.9742 - val_dense_4_accuracy: 0.9897 - val_dense_6_accuracy: 0.9124 - val_dense_8_accuracy: 0.8505 - val_dense_10_accuracy: 0.8505\n",
            "Epoch 36/70\n",
            "776/776 [==============================] - 7s 9ms/step - loss: 0.9504 - dense_2_loss: 0.1051 - dense_4_loss: 0.1793 - dense_6_loss: 0.1741 - dense_8_loss: 0.2286 - dense_10_loss: 0.2599 - dense_2_accuracy: 0.9601 - dense_4_accuracy: 0.9330 - dense_6_accuracy: 0.9407 - dense_8_accuracy: 0.9201 - dense_10_accuracy: 0.9124 - val_loss: 1.9216 - val_dense_2_loss: 0.1043 - val_dense_4_loss: 0.0277 - val_dense_6_loss: 0.3353 - val_dense_8_loss: 0.6454 - val_dense_10_loss: 0.5525 - val_dense_2_accuracy: 0.9742 - val_dense_4_accuracy: 0.9897 - val_dense_6_accuracy: 0.9072 - val_dense_8_accuracy: 0.8557 - val_dense_10_accuracy: 0.8454\n",
            "Epoch 37/70\n",
            "776/776 [==============================] - 7s 9ms/step - loss: 0.9382 - dense_2_loss: 0.1382 - dense_4_loss: 0.2110 - dense_6_loss: 0.1528 - dense_8_loss: 0.2133 - dense_10_loss: 0.2386 - dense_2_accuracy: 0.9472 - dense_4_accuracy: 0.9227 - dense_6_accuracy: 0.9459 - dense_8_accuracy: 0.9214 - dense_10_accuracy: 0.9214 - val_loss: 1.6715 - val_dense_2_loss: 0.0948 - val_dense_4_loss: 0.0172 - val_dense_6_loss: 0.2433 - val_dense_8_loss: 0.6480 - val_dense_10_loss: 0.4464 - val_dense_2_accuracy: 0.9794 - val_dense_4_accuracy: 0.9948 - val_dense_6_accuracy: 0.9175 - val_dense_8_accuracy: 0.8454 - val_dense_10_accuracy: 0.8711\n",
            "Epoch 38/70\n",
            "776/776 [==============================] - 7s 9ms/step - loss: 1.0093 - dense_2_loss: 0.1498 - dense_4_loss: 0.1980 - dense_6_loss: 0.1795 - dense_8_loss: 0.2146 - dense_10_loss: 0.2604 - dense_2_accuracy: 0.9459 - dense_4_accuracy: 0.9291 - dense_6_accuracy: 0.9330 - dense_8_accuracy: 0.9214 - dense_10_accuracy: 0.9072 - val_loss: 1.7851 - val_dense_2_loss: 0.0717 - val_dense_4_loss: 0.0998 - val_dense_6_loss: 0.4310 - val_dense_8_loss: 0.6319 - val_dense_10_loss: 0.3862 - val_dense_2_accuracy: 0.9691 - val_dense_4_accuracy: 0.9536 - val_dense_6_accuracy: 0.8918 - val_dense_8_accuracy: 0.8454 - val_dense_10_accuracy: 0.9021\n",
            "Epoch 39/70\n",
            "776/776 [==============================] - 7s 9ms/step - loss: 0.9524 - dense_2_loss: 0.1121 - dense_4_loss: 0.1871 - dense_6_loss: 0.1718 - dense_8_loss: 0.2356 - dense_10_loss: 0.2444 - dense_2_accuracy: 0.9588 - dense_4_accuracy: 0.9304 - dense_6_accuracy: 0.9356 - dense_8_accuracy: 0.9124 - dense_10_accuracy: 0.9162 - val_loss: 1.6132 - val_dense_2_loss: 0.0930 - val_dense_4_loss: 0.0132 - val_dense_6_loss: 0.2517 - val_dense_8_loss: 0.5759 - val_dense_10_loss: 0.4655 - val_dense_2_accuracy: 0.9742 - val_dense_4_accuracy: 0.9948 - val_dense_6_accuracy: 0.9278 - val_dense_8_accuracy: 0.8351 - val_dense_10_accuracy: 0.8814\n",
            "Epoch 40/70\n",
            "776/776 [==============================] - 7s 9ms/step - loss: 0.8559 - dense_2_loss: 0.0937 - dense_4_loss: 0.1838 - dense_6_loss: 0.1508 - dense_8_loss: 0.2480 - dense_10_loss: 0.1751 - dense_2_accuracy: 0.9639 - dense_4_accuracy: 0.9317 - dense_6_accuracy: 0.9446 - dense_8_accuracy: 0.9034 - dense_10_accuracy: 0.9291 - val_loss: 1.7681 - val_dense_2_loss: 0.0932 - val_dense_4_loss: 0.0137 - val_dense_6_loss: 0.3459 - val_dense_8_loss: 0.6472 - val_dense_10_loss: 0.4320 - val_dense_2_accuracy: 0.9742 - val_dense_4_accuracy: 1.0000 - val_dense_6_accuracy: 0.9021 - val_dense_8_accuracy: 0.8557 - val_dense_10_accuracy: 0.8866\n",
            "Epoch 41/70\n",
            "776/776 [==============================] - 7s 9ms/step - loss: 0.8027 - dense_2_loss: 0.0823 - dense_4_loss: 0.1519 - dense_6_loss: 0.1637 - dense_8_loss: 0.1982 - dense_10_loss: 0.1859 - dense_2_accuracy: 0.9665 - dense_4_accuracy: 0.9369 - dense_6_accuracy: 0.9394 - dense_8_accuracy: 0.9330 - dense_10_accuracy: 0.9381 - val_loss: 1.6772 - val_dense_2_loss: 0.0993 - val_dense_4_loss: 0.0075 - val_dense_6_loss: 0.2593 - val_dense_8_loss: 0.6692 - val_dense_10_loss: 0.4185 - val_dense_2_accuracy: 0.9742 - val_dense_4_accuracy: 1.0000 - val_dense_6_accuracy: 0.9381 - val_dense_8_accuracy: 0.8196 - val_dense_10_accuracy: 0.8814\n",
            "Epoch 42/70\n",
            "776/776 [==============================] - 7s 9ms/step - loss: 0.8553 - dense_2_loss: 0.1226 - dense_4_loss: 0.2047 - dense_6_loss: 0.1685 - dense_8_loss: 0.1791 - dense_10_loss: 0.1780 - dense_2_accuracy: 0.9510 - dense_4_accuracy: 0.9149 - dense_6_accuracy: 0.9446 - dense_8_accuracy: 0.9356 - dense_10_accuracy: 0.9291 - val_loss: 1.6376 - val_dense_2_loss: 0.0976 - val_dense_4_loss: 0.0170 - val_dense_6_loss: 0.2432 - val_dense_8_loss: 0.6276 - val_dense_10_loss: 0.4343 - val_dense_2_accuracy: 0.9691 - val_dense_4_accuracy: 0.9948 - val_dense_6_accuracy: 0.9227 - val_dense_8_accuracy: 0.8557 - val_dense_10_accuracy: 0.8866\n",
            "Epoch 43/70\n",
            "776/776 [==============================] - 7s 9ms/step - loss: 0.8715 - dense_2_loss: 0.1252 - dense_4_loss: 0.1784 - dense_6_loss: 0.1737 - dense_8_loss: 0.2047 - dense_10_loss: 0.1873 - dense_2_accuracy: 0.9562 - dense_4_accuracy: 0.9265 - dense_6_accuracy: 0.9446 - dense_8_accuracy: 0.9072 - dense_10_accuracy: 0.9369 - val_loss: 1.6467 - val_dense_2_loss: 0.0842 - val_dense_4_loss: 0.0139 - val_dense_6_loss: 0.3396 - val_dense_8_loss: 0.5802 - val_dense_10_loss: 0.4292 - val_dense_2_accuracy: 0.9742 - val_dense_4_accuracy: 0.9948 - val_dense_6_accuracy: 0.8969 - val_dense_8_accuracy: 0.8711 - val_dense_10_accuracy: 0.9021\n",
            "Epoch 44/70\n",
            "776/776 [==============================] - 7s 9ms/step - loss: 0.7828 - dense_2_loss: 0.1078 - dense_4_loss: 0.2047 - dense_6_loss: 0.1540 - dense_8_loss: 0.1709 - dense_10_loss: 0.1538 - dense_2_accuracy: 0.9601 - dense_4_accuracy: 0.9253 - dense_6_accuracy: 0.9381 - dense_8_accuracy: 0.9356 - dense_10_accuracy: 0.9459 - val_loss: 1.8869 - val_dense_2_loss: 0.1096 - val_dense_4_loss: 0.0108 - val_dense_6_loss: 0.2988 - val_dense_8_loss: 0.7654 - val_dense_10_loss: 0.4546 - val_dense_2_accuracy: 0.9691 - val_dense_4_accuracy: 0.9948 - val_dense_6_accuracy: 0.9021 - val_dense_8_accuracy: 0.8454 - val_dense_10_accuracy: 0.8918\n",
            "Epoch 45/70\n",
            "776/776 [==============================] - 7s 9ms/step - loss: 0.7791 - dense_2_loss: 0.1085 - dense_4_loss: 0.1674 - dense_6_loss: 0.1507 - dense_8_loss: 0.1858 - dense_10_loss: 0.1458 - dense_2_accuracy: 0.9626 - dense_4_accuracy: 0.9265 - dense_6_accuracy: 0.9394 - dense_8_accuracy: 0.9240 - dense_10_accuracy: 0.9523 - val_loss: 2.0009 - val_dense_2_loss: 0.1112 - val_dense_4_loss: 0.0262 - val_dense_6_loss: 0.3724 - val_dense_8_loss: 0.6630 - val_dense_10_loss: 0.5609 - val_dense_2_accuracy: 0.9691 - val_dense_4_accuracy: 0.9897 - val_dense_6_accuracy: 0.9124 - val_dense_8_accuracy: 0.8505 - val_dense_10_accuracy: 0.8454\n",
            "Epoch 46/70\n",
            "776/776 [==============================] - 7s 9ms/step - loss: 0.7862 - dense_2_loss: 0.1075 - dense_4_loss: 0.1693 - dense_6_loss: 0.1380 - dense_8_loss: 0.1886 - dense_10_loss: 0.2024 - dense_2_accuracy: 0.9588 - dense_4_accuracy: 0.9381 - dense_6_accuracy: 0.9588 - dense_8_accuracy: 0.9253 - dense_10_accuracy: 0.9459 - val_loss: 2.0720 - val_dense_2_loss: 0.1021 - val_dense_4_loss: 0.0424 - val_dense_6_loss: 0.3630 - val_dense_8_loss: 0.6658 - val_dense_10_loss: 0.6214 - val_dense_2_accuracy: 0.9691 - val_dense_4_accuracy: 0.9742 - val_dense_6_accuracy: 0.8918 - val_dense_8_accuracy: 0.8247 - val_dense_10_accuracy: 0.8402\n",
            "Epoch 47/70\n",
            "776/776 [==============================] - 7s 9ms/step - loss: 0.7056 - dense_2_loss: 0.0919 - dense_4_loss: 0.1360 - dense_6_loss: 0.1298 - dense_8_loss: 0.1729 - dense_10_loss: 0.1778 - dense_2_accuracy: 0.9742 - dense_4_accuracy: 0.9472 - dense_6_accuracy: 0.9523 - dense_8_accuracy: 0.9291 - dense_10_accuracy: 0.9356 - val_loss: 1.6503 - val_dense_2_loss: 0.0943 - val_dense_4_loss: 0.0143 - val_dense_6_loss: 0.2831 - val_dense_8_loss: 0.5796 - val_dense_10_loss: 0.4598 - val_dense_2_accuracy: 0.9742 - val_dense_4_accuracy: 0.9948 - val_dense_6_accuracy: 0.9227 - val_dense_8_accuracy: 0.8557 - val_dense_10_accuracy: 0.8763\n",
            "Epoch 48/70\n",
            "776/776 [==============================] - 7s 9ms/step - loss: 0.6940 - dense_2_loss: 0.0789 - dense_4_loss: 0.1589 - dense_6_loss: 0.1311 - dense_8_loss: 0.1607 - dense_10_loss: 0.1599 - dense_2_accuracy: 0.9678 - dense_4_accuracy: 0.9317 - dense_6_accuracy: 0.9536 - dense_8_accuracy: 0.9343 - dense_10_accuracy: 0.9497 - val_loss: 1.7573 - val_dense_2_loss: 0.0956 - val_dense_4_loss: 0.0376 - val_dense_6_loss: 0.2964 - val_dense_8_loss: 0.6132 - val_dense_10_loss: 0.4800 - val_dense_2_accuracy: 0.9742 - val_dense_4_accuracy: 0.9794 - val_dense_6_accuracy: 0.9227 - val_dense_8_accuracy: 0.8557 - val_dense_10_accuracy: 0.8814\n",
            "Epoch 49/70\n",
            "776/776 [==============================] - 7s 9ms/step - loss: 0.7138 - dense_2_loss: 0.1266 - dense_4_loss: 0.1566 - dense_6_loss: 0.1510 - dense_8_loss: 0.1358 - dense_10_loss: 0.1647 - dense_2_accuracy: 0.9485 - dense_4_accuracy: 0.9407 - dense_6_accuracy: 0.9446 - dense_8_accuracy: 0.9510 - dense_10_accuracy: 0.9381 - val_loss: 1.8531 - val_dense_2_loss: 0.1152 - val_dense_4_loss: 0.0321 - val_dense_6_loss: 0.3053 - val_dense_8_loss: 0.7171 - val_dense_10_loss: 0.4362 - val_dense_2_accuracy: 0.9639 - val_dense_4_accuracy: 0.9742 - val_dense_6_accuracy: 0.9330 - val_dense_8_accuracy: 0.8299 - val_dense_10_accuracy: 0.8866\n",
            "Epoch 50/70\n",
            "776/776 [==============================] - 7s 9ms/step - loss: 0.7940 - dense_2_loss: 0.0874 - dense_4_loss: 0.1716 - dense_6_loss: 0.1509 - dense_8_loss: 0.1603 - dense_10_loss: 0.2176 - dense_2_accuracy: 0.9716 - dense_4_accuracy: 0.9240 - dense_6_accuracy: 0.9343 - dense_8_accuracy: 0.9420 - dense_10_accuracy: 0.9253 - val_loss: 1.6314 - val_dense_2_loss: 0.0735 - val_dense_4_loss: 0.0320 - val_dense_6_loss: 0.3584 - val_dense_8_loss: 0.5315 - val_dense_10_loss: 0.4179 - val_dense_2_accuracy: 0.9794 - val_dense_4_accuracy: 0.9794 - val_dense_6_accuracy: 0.9124 - val_dense_8_accuracy: 0.8711 - val_dense_10_accuracy: 0.8918\n",
            "Epoch 51/70\n",
            "776/776 [==============================] - 7s 9ms/step - loss: 0.6793 - dense_2_loss: 0.0791 - dense_4_loss: 0.1618 - dense_6_loss: 0.1132 - dense_8_loss: 0.1655 - dense_10_loss: 0.1570 - dense_2_accuracy: 0.9704 - dense_4_accuracy: 0.9394 - dense_6_accuracy: 0.9562 - dense_8_accuracy: 0.9227 - dense_10_accuracy: 0.9459 - val_loss: 1.7163 - val_dense_2_loss: 0.1032 - val_dense_4_loss: 0.0383 - val_dense_6_loss: 0.2910 - val_dense_8_loss: 0.6183 - val_dense_10_loss: 0.4364 - val_dense_2_accuracy: 0.9742 - val_dense_4_accuracy: 0.9845 - val_dense_6_accuracy: 0.9175 - val_dense_8_accuracy: 0.8608 - val_dense_10_accuracy: 0.8608\n",
            "Epoch 52/70\n",
            "776/776 [==============================] - 7s 9ms/step - loss: 0.6867 - dense_2_loss: 0.0744 - dense_4_loss: 0.1366 - dense_6_loss: 0.1192 - dense_8_loss: 0.1965 - dense_10_loss: 0.1486 - dense_2_accuracy: 0.9678 - dense_4_accuracy: 0.9510 - dense_6_accuracy: 0.9523 - dense_8_accuracy: 0.9291 - dense_10_accuracy: 0.9394 - val_loss: 1.6443 - val_dense_2_loss: 0.0804 - val_dense_4_loss: 0.0096 - val_dense_6_loss: 0.2976 - val_dense_8_loss: 0.5679 - val_dense_10_loss: 0.4696 - val_dense_2_accuracy: 0.9742 - val_dense_4_accuracy: 0.9948 - val_dense_6_accuracy: 0.9278 - val_dense_8_accuracy: 0.8351 - val_dense_10_accuracy: 0.8711\n",
            "Epoch 53/70\n",
            "776/776 [==============================] - 7s 9ms/step - loss: 0.6667 - dense_2_loss: 0.0807 - dense_4_loss: 0.1641 - dense_6_loss: 0.1275 - dense_8_loss: 0.1344 - dense_10_loss: 0.1486 - dense_2_accuracy: 0.9704 - dense_4_accuracy: 0.9291 - dense_6_accuracy: 0.9536 - dense_8_accuracy: 0.9510 - dense_10_accuracy: 0.9433 - val_loss: 1.6472 - val_dense_2_loss: 0.0790 - val_dense_4_loss: 0.0140 - val_dense_6_loss: 0.2668 - val_dense_8_loss: 0.6487 - val_dense_10_loss: 0.4189 - val_dense_2_accuracy: 0.9794 - val_dense_4_accuracy: 0.9948 - val_dense_6_accuracy: 0.9278 - val_dense_8_accuracy: 0.8454 - val_dense_10_accuracy: 0.8918\n",
            "Epoch 54/70\n",
            "776/776 [==============================] - 7s 9ms/step - loss: 0.5911 - dense_2_loss: 0.0799 - dense_4_loss: 0.1201 - dense_6_loss: 0.1108 - dense_8_loss: 0.1430 - dense_10_loss: 0.1282 - dense_2_accuracy: 0.9691 - dense_4_accuracy: 0.9510 - dense_6_accuracy: 0.9588 - dense_8_accuracy: 0.9433 - dense_10_accuracy: 0.9588 - val_loss: 1.6568 - val_dense_2_loss: 0.0665 - val_dense_4_loss: 0.0326 - val_dense_6_loss: 0.2734 - val_dense_8_loss: 0.5919 - val_dense_10_loss: 0.4715 - val_dense_2_accuracy: 0.9742 - val_dense_4_accuracy: 0.9948 - val_dense_6_accuracy: 0.9381 - val_dense_8_accuracy: 0.8711 - val_dense_10_accuracy: 0.8763\n",
            "Epoch 55/70\n",
            "776/776 [==============================] - 7s 9ms/step - loss: 0.6312 - dense_2_loss: 0.0832 - dense_4_loss: 0.1604 - dense_6_loss: 0.1419 - dense_8_loss: 0.1267 - dense_10_loss: 0.1318 - dense_2_accuracy: 0.9639 - dense_4_accuracy: 0.9407 - dense_6_accuracy: 0.9485 - dense_8_accuracy: 0.9485 - dense_10_accuracy: 0.9575 - val_loss: 1.6250 - val_dense_2_loss: 0.0820 - val_dense_4_loss: 0.0481 - val_dense_6_loss: 0.2967 - val_dense_8_loss: 0.5921 - val_dense_10_loss: 0.3887 - val_dense_2_accuracy: 0.9742 - val_dense_4_accuracy: 0.9845 - val_dense_6_accuracy: 0.9278 - val_dense_8_accuracy: 0.8505 - val_dense_10_accuracy: 0.8918\n",
            "Epoch 56/70\n",
            "776/776 [==============================] - 7s 9ms/step - loss: 0.6308 - dense_2_loss: 0.0724 - dense_4_loss: 0.1360 - dense_6_loss: 0.1147 - dense_8_loss: 0.1558 - dense_10_loss: 0.1410 - dense_2_accuracy: 0.9678 - dense_4_accuracy: 0.9485 - dense_6_accuracy: 0.9562 - dense_8_accuracy: 0.9317 - dense_10_accuracy: 0.9510 - val_loss: 1.8568 - val_dense_2_loss: 0.1321 - val_dense_4_loss: 0.0428 - val_dense_6_loss: 0.3216 - val_dense_8_loss: 0.6681 - val_dense_10_loss: 0.4441 - val_dense_2_accuracy: 0.9691 - val_dense_4_accuracy: 0.9897 - val_dense_6_accuracy: 0.9433 - val_dense_8_accuracy: 0.8557 - val_dense_10_accuracy: 0.8866\n",
            "Epoch 57/70\n",
            "776/776 [==============================] - 7s 9ms/step - loss: 0.5583 - dense_2_loss: 0.0920 - dense_4_loss: 0.1373 - dense_6_loss: 0.0958 - dense_8_loss: 0.1145 - dense_10_loss: 0.1166 - dense_2_accuracy: 0.9704 - dense_4_accuracy: 0.9523 - dense_6_accuracy: 0.9588 - dense_8_accuracy: 0.9536 - dense_10_accuracy: 0.9562 - val_loss: 1.9173 - val_dense_2_loss: 0.1253 - val_dense_4_loss: 0.0450 - val_dense_6_loss: 0.3425 - val_dense_8_loss: 0.6527 - val_dense_10_loss: 0.4955 - val_dense_2_accuracy: 0.9691 - val_dense_4_accuracy: 0.9897 - val_dense_6_accuracy: 0.9124 - val_dense_8_accuracy: 0.8608 - val_dense_10_accuracy: 0.8763\n",
            "Epoch 58/70\n",
            "776/776 [==============================] - 7s 9ms/step - loss: 0.5734 - dense_2_loss: 0.0942 - dense_4_loss: 0.0994 - dense_6_loss: 0.0876 - dense_8_loss: 0.1536 - dense_10_loss: 0.1398 - dense_2_accuracy: 0.9639 - dense_4_accuracy: 0.9588 - dense_6_accuracy: 0.9704 - dense_8_accuracy: 0.9330 - dense_10_accuracy: 0.9472 - val_loss: 1.9745 - val_dense_2_loss: 0.1271 - val_dense_4_loss: 0.0773 - val_dense_6_loss: 0.4163 - val_dense_8_loss: 0.6430 - val_dense_10_loss: 0.4465 - val_dense_2_accuracy: 0.9691 - val_dense_4_accuracy: 0.9897 - val_dense_6_accuracy: 0.9227 - val_dense_8_accuracy: 0.8660 - val_dense_10_accuracy: 0.8814\n",
            "Epoch 59/70\n",
            "776/776 [==============================] - 7s 9ms/step - loss: 0.6797 - dense_2_loss: 0.0881 - dense_4_loss: 0.1399 - dense_6_loss: 0.1215 - dense_8_loss: 0.1813 - dense_10_loss: 0.1590 - dense_2_accuracy: 0.9613 - dense_4_accuracy: 0.9369 - dense_6_accuracy: 0.9575 - dense_8_accuracy: 0.9253 - dense_10_accuracy: 0.9356 - val_loss: 1.8875 - val_dense_2_loss: 0.1385 - val_dense_4_loss: 0.0454 - val_dense_6_loss: 0.3537 - val_dense_8_loss: 0.7202 - val_dense_10_loss: 0.3786 - val_dense_2_accuracy: 0.9639 - val_dense_4_accuracy: 0.9948 - val_dense_6_accuracy: 0.9124 - val_dense_8_accuracy: 0.8454 - val_dense_10_accuracy: 0.8969\n",
            "Epoch 60/70\n",
            "776/776 [==============================] - 7s 10ms/step - loss: 0.6140 - dense_2_loss: 0.0910 - dense_4_loss: 0.1255 - dense_6_loss: 0.0965 - dense_8_loss: 0.1545 - dense_10_loss: 0.1434 - dense_2_accuracy: 0.9691 - dense_4_accuracy: 0.9562 - dense_6_accuracy: 0.9626 - dense_8_accuracy: 0.9381 - dense_10_accuracy: 0.9562 - val_loss: 1.8790 - val_dense_2_loss: 0.1055 - val_dense_4_loss: 0.0454 - val_dense_6_loss: 0.3852 - val_dense_8_loss: 0.6548 - val_dense_10_loss: 0.4366 - val_dense_2_accuracy: 0.9794 - val_dense_4_accuracy: 0.9948 - val_dense_6_accuracy: 0.9072 - val_dense_8_accuracy: 0.8711 - val_dense_10_accuracy: 0.8866\n",
            "Epoch 61/70\n",
            "776/776 [==============================] - 7s 9ms/step - loss: 0.5937 - dense_2_loss: 0.0972 - dense_4_loss: 0.1204 - dense_6_loss: 0.1296 - dense_8_loss: 0.1202 - dense_10_loss: 0.1138 - dense_2_accuracy: 0.9613 - dense_4_accuracy: 0.9562 - dense_6_accuracy: 0.9446 - dense_8_accuracy: 0.9613 - dense_10_accuracy: 0.9575 - val_loss: 1.8226 - val_dense_2_loss: 0.1152 - val_dense_4_loss: 0.0376 - val_dense_6_loss: 0.2833 - val_dense_8_loss: 0.6917 - val_dense_10_loss: 0.4510 - val_dense_2_accuracy: 0.9691 - val_dense_4_accuracy: 0.9948 - val_dense_6_accuracy: 0.9381 - val_dense_8_accuracy: 0.8660 - val_dense_10_accuracy: 0.8969\n",
            "Epoch 62/70\n",
            "776/776 [==============================] - 7s 9ms/step - loss: 0.5495 - dense_2_loss: 0.0647 - dense_4_loss: 0.1341 - dense_6_loss: 0.1093 - dense_8_loss: 0.1342 - dense_10_loss: 0.1070 - dense_2_accuracy: 0.9678 - dense_4_accuracy: 0.9485 - dense_6_accuracy: 0.9639 - dense_8_accuracy: 0.9510 - dense_10_accuracy: 0.9601 - val_loss: 1.7671 - val_dense_2_loss: 0.0910 - val_dense_4_loss: 0.0371 - val_dense_6_loss: 0.3486 - val_dense_8_loss: 0.6545 - val_dense_10_loss: 0.3996 - val_dense_2_accuracy: 0.9691 - val_dense_4_accuracy: 0.9948 - val_dense_6_accuracy: 0.9021 - val_dense_8_accuracy: 0.8660 - val_dense_10_accuracy: 0.9021\n",
            "Epoch 63/70\n",
            "776/776 [==============================] - 7s 9ms/step - loss: 0.5933 - dense_2_loss: 0.0889 - dense_4_loss: 0.1129 - dense_6_loss: 0.1251 - dense_8_loss: 0.1341 - dense_10_loss: 0.1364 - dense_2_accuracy: 0.9691 - dense_4_accuracy: 0.9536 - dense_6_accuracy: 0.9575 - dense_8_accuracy: 0.9381 - dense_10_accuracy: 0.9497 - val_loss: 1.8401 - val_dense_2_loss: 0.1115 - val_dense_4_loss: 0.0575 - val_dense_6_loss: 0.3374 - val_dense_8_loss: 0.6593 - val_dense_10_loss: 0.4322 - val_dense_2_accuracy: 0.9794 - val_dense_4_accuracy: 0.9897 - val_dense_6_accuracy: 0.9227 - val_dense_8_accuracy: 0.8557 - val_dense_10_accuracy: 0.9021\n",
            "Epoch 64/70\n",
            "776/776 [==============================] - 7s 9ms/step - loss: 0.5557 - dense_2_loss: 0.0627 - dense_4_loss: 0.1346 - dense_6_loss: 0.1078 - dense_8_loss: 0.1442 - dense_10_loss: 0.1166 - dense_2_accuracy: 0.9716 - dense_4_accuracy: 0.9613 - dense_6_accuracy: 0.9497 - dense_8_accuracy: 0.9497 - dense_10_accuracy: 0.9562 - val_loss: 1.7833 - val_dense_2_loss: 0.0964 - val_dense_4_loss: 0.0348 - val_dense_6_loss: 0.3901 - val_dense_8_loss: 0.6261 - val_dense_10_loss: 0.3977 - val_dense_2_accuracy: 0.9794 - val_dense_4_accuracy: 0.9948 - val_dense_6_accuracy: 0.9278 - val_dense_8_accuracy: 0.8711 - val_dense_10_accuracy: 0.8969\n",
            "Epoch 65/70\n",
            "776/776 [==============================] - 7s 9ms/step - loss: 0.5580 - dense_2_loss: 0.0808 - dense_4_loss: 0.1239 - dense_6_loss: 0.0913 - dense_8_loss: 0.1305 - dense_10_loss: 0.1268 - dense_2_accuracy: 0.9678 - dense_4_accuracy: 0.9588 - dense_6_accuracy: 0.9639 - dense_8_accuracy: 0.9433 - dense_10_accuracy: 0.9472 - val_loss: 1.7507 - val_dense_2_loss: 0.0917 - val_dense_4_loss: 0.0372 - val_dense_6_loss: 0.3847 - val_dense_8_loss: 0.6431 - val_dense_10_loss: 0.3600 - val_dense_2_accuracy: 0.9897 - val_dense_4_accuracy: 0.9948 - val_dense_6_accuracy: 0.9330 - val_dense_8_accuracy: 0.8660 - val_dense_10_accuracy: 0.9124\n",
            "Epoch 66/70\n",
            "776/776 [==============================] - 7s 9ms/step - loss: 0.5549 - dense_2_loss: 0.0736 - dense_4_loss: 0.1201 - dense_6_loss: 0.0971 - dense_8_loss: 0.1398 - dense_10_loss: 0.1318 - dense_2_accuracy: 0.9678 - dense_4_accuracy: 0.9497 - dense_6_accuracy: 0.9601 - dense_8_accuracy: 0.9472 - dense_10_accuracy: 0.9446 - val_loss: 1.8647 - val_dense_2_loss: 0.0863 - val_dense_4_loss: 0.0227 - val_dense_6_loss: 0.3606 - val_dense_8_loss: 0.7061 - val_dense_10_loss: 0.4400 - val_dense_2_accuracy: 0.9845 - val_dense_4_accuracy: 0.9948 - val_dense_6_accuracy: 0.9227 - val_dense_8_accuracy: 0.8557 - val_dense_10_accuracy: 0.8969\n",
            "Epoch 67/70\n",
            "776/776 [==============================] - 7s 9ms/step - loss: 0.5217 - dense_2_loss: 0.0732 - dense_4_loss: 0.0994 - dense_6_loss: 0.0880 - dense_8_loss: 0.1276 - dense_10_loss: 0.1247 - dense_2_accuracy: 0.9742 - dense_4_accuracy: 0.9601 - dense_6_accuracy: 0.9626 - dense_8_accuracy: 0.9510 - dense_10_accuracy: 0.9523 - val_loss: 1.6681 - val_dense_2_loss: 0.0942 - val_dense_4_loss: 0.0281 - val_dense_6_loss: 0.3178 - val_dense_8_loss: 0.5994 - val_dense_10_loss: 0.4057 - val_dense_2_accuracy: 0.9794 - val_dense_4_accuracy: 0.9948 - val_dense_6_accuracy: 0.9227 - val_dense_8_accuracy: 0.8711 - val_dense_10_accuracy: 0.9021\n",
            "Epoch 68/70\n",
            "776/776 [==============================] - 7s 9ms/step - loss: 0.5916 - dense_2_loss: 0.0748 - dense_4_loss: 0.1348 - dense_6_loss: 0.1354 - dense_8_loss: 0.1376 - dense_10_loss: 0.0972 - dense_2_accuracy: 0.9691 - dense_4_accuracy: 0.9523 - dense_6_accuracy: 0.9472 - dense_8_accuracy: 0.9381 - dense_10_accuracy: 0.9626 - val_loss: 1.9426 - val_dense_2_loss: 0.0774 - val_dense_4_loss: 0.0366 - val_dense_6_loss: 0.3443 - val_dense_8_loss: 0.6612 - val_dense_10_loss: 0.5633 - val_dense_2_accuracy: 0.9794 - val_dense_4_accuracy: 0.9794 - val_dense_6_accuracy: 0.9227 - val_dense_8_accuracy: 0.8608 - val_dense_10_accuracy: 0.8660\n",
            "Epoch 69/70\n",
            "776/776 [==============================] - 7s 9ms/step - loss: 0.5492 - dense_2_loss: 0.0744 - dense_4_loss: 0.1351 - dense_6_loss: 0.1078 - dense_8_loss: 0.1088 - dense_10_loss: 0.1134 - dense_2_accuracy: 0.9755 - dense_4_accuracy: 0.9497 - dense_6_accuracy: 0.9562 - dense_8_accuracy: 0.9588 - dense_10_accuracy: 0.9485 - val_loss: 1.7159 - val_dense_2_loss: 0.1140 - val_dense_4_loss: 0.0224 - val_dense_6_loss: 0.3692 - val_dense_8_loss: 0.6012 - val_dense_10_loss: 0.3796 - val_dense_2_accuracy: 0.9742 - val_dense_4_accuracy: 0.9948 - val_dense_6_accuracy: 0.9072 - val_dense_8_accuracy: 0.8711 - val_dense_10_accuracy: 0.8969\n",
            "Epoch 70/70\n",
            "776/776 [==============================] - 7s 9ms/step - loss: 0.5374 - dense_2_loss: 0.0651 - dense_4_loss: 0.1071 - dense_6_loss: 0.0892 - dense_8_loss: 0.1506 - dense_10_loss: 0.1297 - dense_2_accuracy: 0.9781 - dense_4_accuracy: 0.9536 - dense_6_accuracy: 0.9652 - dense_8_accuracy: 0.9356 - dense_10_accuracy: 0.9510 - val_loss: 1.7266 - val_dense_2_loss: 0.0916 - val_dense_4_loss: 0.0316 - val_dense_6_loss: 0.4081 - val_dense_8_loss: 0.6601 - val_dense_10_loss: 0.3039 - val_dense_2_accuracy: 0.9742 - val_dense_4_accuracy: 0.9897 - val_dense_6_accuracy: 0.8918 - val_dense_8_accuracy: 0.8660 - val_dense_10_accuracy: 0.9124\n"
          ],
          "name": "stdout"
        }
      ]
    },
    {
      "cell_type": "code",
      "metadata": {
        "id": "ZGNvuUqwX4Wt",
        "colab_type": "code",
        "colab": {}
      },
      "source": [
        "model.save('captcha_simple_model.h5')"
      ],
      "execution_count": 30,
      "outputs": []
    },
    {
      "cell_type": "code",
      "metadata": {
        "id": "zvOoBnwJGd1l",
        "colab_type": "code",
        "colab": {}
      },
      "source": [
        "# Define function to predict captcha\n",
        "def predict(filepath):\n",
        "    img = cv2.imread(filepath, cv2.IMREAD_GRAYSCALE)\n",
        "    \n",
        "    if img is not None:\n",
        "        img = img / 255.0\n",
        "    else:\n",
        "        print(\"Not detected\");\n",
        "    res = np.array(model.predict(img[np.newaxis, :, :, np.newaxis]))\n",
        "    ans = np.reshape(res, (5, 36))\n",
        "    l_ind = []\n",
        "    probs = []\n",
        "    for a in ans:\n",
        "        l_ind.append(np.argmax(a))\n",
        "        #probs.append(np.max(a))\n",
        "\n",
        "    capt = ''\n",
        "    for l in l_ind:\n",
        "        capt += symbols[l]\n",
        "    return capt#, sum(probs) / 5"
      ],
      "execution_count": 8,
      "outputs": []
    },
    {
      "cell_type": "code",
      "metadata": {
        "id": "l38YL8RqGjOh",
        "colab_type": "code",
        "colab": {
          "base_uri": "https://localhost:8080/",
          "height": 50
        },
        "outputId": "ffa6b91c-cc7d-47bc-97cb-6356934a6a70"
      },
      "source": [
        "score= model.evaluate(X_test,[y_test[0], y_test[1], y_test[2], y_test[3], y_test[4]],verbose=1)\n",
        "print('Test Loss and accuracy:', np.mean(score))"
      ],
      "execution_count": 11,
      "outputs": [
        {
          "output_type": "stream",
          "text": [
            "100/100 [==============================] - 0s 3ms/step\n",
            "Test Loss and accuracy: 0.666548470875079\n"
          ],
          "name": "stdout"
        }
      ]
    },
    {
      "cell_type": "code",
      "metadata": {
        "id": "H5_-KxTKGmgV",
        "colab_type": "code",
        "colab": {
          "base_uri": "https://localhost:8080/",
          "height": 117
        },
        "outputId": "39a76128-b2a1-4a25-bbff-e3c878e319cd"
      },
      "source": [
        "model.evaluate(X_test, [y_test[0], y_test[1], y_test[2], y_test[3], y_test[4]])\n",
        "print(predict('/content/drive/My Drive/captcha recognition/samples/samples/8n5p3.png'))\n",
        "print(predict('/content/drive/My Drive/captcha recognition/samples/samples/f2m8n.png'))\n",
        "print(predict('/content/drive/My Drive/captcha recognition/samples/samples/dce8y.png'))\n",
        "print(predict('/content/drive/My Drive/captcha recognition/samples/samples/3eny7.png'))\n",
        "print(predict('/content/drive/My Drive/captcha recognition/samples/samples/npxb7.png'))"
      ],
      "execution_count": 12,
      "outputs": [
        {
          "output_type": "stream",
          "text": [
            "100/100 [==============================] - 0s 3ms/step\n",
            "8n5p3\n",
            "f2m8n\n",
            "dce8y\n",
            "3eny7\n",
            "npxb7\n"
          ],
          "name": "stdout"
        }
      ]
    },
    {
      "cell_type": "code",
      "metadata": {
        "id": "TvBSRlgkVV0I",
        "colab_type": "code",
        "colab": {
          "base_uri": "https://localhost:8080/",
          "height": 214
        },
        "outputId": "403fa464-aa96-486f-eeaf-07bcbb18d953"
      },
      "source": [
        "%matplotlib inline \n",
        "import matplotlib.pyplot as plt\n",
        "img=cv2.imread('/content/drive/My Drive/captcha recognition/captcha_2.png',cv2.IMREAD_GRAYSCALE)\n",
        "plt.imshow(img, cmap=plt.get_cmap('gray'))"
      ],
      "execution_count": 22,
      "outputs": [
        {
          "output_type": "execute_result",
          "data": {
            "text/plain": [
              "<matplotlib.image.AxesImage at 0x7f9333809438>"
            ]
          },
          "metadata": {
            "tags": []
          },
          "execution_count": 22
        },
        {
          "output_type": "display_data",
          "data": {
            "image/png": "[encoded data removed]",
            "text/plain": [
              "<Figure size 432x288 with 1 Axes>"
            ]
          },
          "metadata": {
            "tags": [],
            "needs_background": "light"
          }
        }
      ]
    },
    {
      "cell_type": "code",
      "metadata": {
        "id": "OhaXLbIfUW1X",
        "colab_type": "code",
        "colab": {}
      },
      "source": [
        ""
      ],
      "execution_count": null,
      "outputs": []
    }
  ]
}